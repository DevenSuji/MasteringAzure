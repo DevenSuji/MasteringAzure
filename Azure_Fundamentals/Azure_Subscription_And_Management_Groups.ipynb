{
 "cells": [
  {
   "cell_type": "markdown",
   "metadata": {},
   "source": [
    "# Azure Subscription and Management Groups\n",
    "1. ### A subscription provides you with authenticated and authorized access to Azure products and services. \n",
    "2. ### It also allows you to provision resources. \n",
    "3. ### An Azure subscription is a logical unit of Azure services that links to an Azure account, which is an identity in Azure Active Directory (Azure AD) or in a directory that Azure AD trusts."
   ]
  },
  {
   "cell_type": "markdown",
   "metadata": {},
   "source": [
    "### An account can have one subscription or multiple subscriptions that have different billing models and to which you apply different access-management policies.  \n",
    "  \n",
    "### You can use Azure subscriptions to define boundaries around Azure products, services, and resources.  \n",
    "  \n",
    "### There are two types of subscription boundaries that you can use:  \n",
    "  \n",
    "1. ### <u>Billing boundary</u>: This subscription type determines how an Azure account is billed for using Azure. You can create multiple subscriptions for different types of billing requirements. Azure generates separate billing reports and invoices for each subscription so that you can organize and manage costs.\n",
    "2. ### <u>Access control boundary</u>: Azure applies access-management policies at the subscription level, and you can create separate subscriptions to reflect different organizational structures. An example is that within a business, you have different departments to which you apply distinct Azure subscription policies. This billing model allows you to manage and control access to the resources that users provision with specific subscriptions."
   ]
  },
  {
   "cell_type": "markdown",
   "metadata": {},
   "source": [
    "# Azure Management Groups\n",
    "### If your organization has many subscriptions, you might need a way to efficiently manage access, policies, and compliance for those subscriptions. Azure management groups provide a level of scope above subscriptions. You organize subscriptions into containers called management groups and apply your governance conditions to the management groups. All subscriptions within a management group automatically inherit the conditions applied to the management group. Management groups give you enterprise-grade management at a large scale no matter what type of subscriptions you might have. All subscriptions within a single management group must trust the same Azure AD tenant.\n",
    "\n",
    "### For example, you can apply policies to a management group that limits the regions available for VM creation. This policy would be applied to all management groups, subscriptions, and resources under that management group by only allowing VMs to be created in that region.\n",
    "\n"
   ]
  },
  {
   "cell_type": "markdown",
   "metadata": {},
   "source": [
    "# Important facts about management groups\n",
    "+ 10,000 management groups can be supported in a single directory.\n",
    "+ A management group tree can support up to six levels of depth. This limit doesn't include the root level or the subscription level.\n",
    "+ Each management group and subscription can support only one parent.\n",
    "+ Each management group can have many children.\n",
    "+ All subscriptions and management groups are within a single hierarchy in each directory."
   ]
  },
  {
   "cell_type": "markdown",
   "metadata": {},
   "source": [
    "## What is App Service?\n",
    "### App Service is an HTTP-based service that enables you to build and host many types of web-based solutions without managing infrastructure. For example, you can host web apps, mobile back ends, and RESTful APIs in several supported programming languages. Applications developed in .NET, .NET Core, Java, Ruby, Node.js, PHP, or Python can run in and scale with ease on both Windows-based and Linux-based environments."
   ]
  }
 ],
 "metadata": {
  "interpreter": {
   "hash": "397704579725e15f5c7cb49fe5f0341eb7531c82d19f2c29d197e8b64ab5776b"
  },
  "kernelspec": {
   "display_name": "Python 3.9.2 64-bit",
   "name": "python3"
  },
  "language_info": {
   "name": "python",
   "version": ""
  },
  "orig_nbformat": 4
 },
 "nbformat": 4,
 "nbformat_minor": 2
}