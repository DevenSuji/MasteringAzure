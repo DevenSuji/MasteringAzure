{
 "cells": [
  {
   "cell_type": "markdown",
   "metadata": {},
   "source": [
    "# Azure Resource Group\n",
    "+ All resources must be in a resource group.\n",
    "+ A resource can only be a member of a single resource group.\n",
    "+ Some resources can be moved between resource groups but some services do have limitations.\n",
    "+ Resource group can't be nested.\n",
    "+ Before any resource can be provisioned, one needs a RESOURCE GROUP for it to be placed in.\n",
    "+ If you delete a resource group, all resources contained within it are also deleted."
   ]
  },
  {
   "cell_type": "markdown",
   "metadata": {},
   "source": [
    "# Logical grouping\n",
    "+ Resource groups exist to help manage and organize your Azure resources. \n",
    "+ By placing resources of similar usage, type, or location in a resource group, you can provide order and organization to resources you create in Azure. \n",
    "+ Logical grouping is the aspect that you're most interested in here, because there's a lot of disorder among our resources."
   ]
  },
  {
   "cell_type": "markdown",
   "metadata": {},
   "source": [
    "# Life cycle\n",
    "Organizing resources by life cycle can be useful in nonproduction environments, where you might try an experiment and then dispose of it. Resource groups make it easy to remove a set of resources all at once."
   ]
  },
  {
   "cell_type": "markdown",
   "metadata": {},
   "source": [
    "# Authorization\n",
    "Resource groups are also a scope for applying role-based access control (RBAC) permissions. By applying RBAC permissions to a resource group, you can ease administration and limit access to allow only what's needed."
   ]
  }
 ],
 "metadata": {
  "interpreter": {
   "hash": "397704579725e15f5c7cb49fe5f0341eb7531c82d19f2c29d197e8b64ab5776b"
  },
  "kernelspec": {
   "display_name": "Python 3.9.2 64-bit",
   "name": "python3"
  },
  "language_info": {
   "name": "python",
   "version": ""
  },
  "orig_nbformat": 4
 },
 "nbformat": 4,
 "nbformat_minor": 2
}