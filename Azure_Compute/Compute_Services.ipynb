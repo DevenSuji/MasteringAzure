{
 "cells": [
  {
   "source": [
    "# Deployment Models\n",
    "+ Public Cloud\n",
    "+ Private Cloud\n",
    "+ Hybrid Cloud"
   ],
   "cell_type": "markdown",
   "metadata": {}
  },
  {
   "cell_type": "markdown",
   "metadata": {},
   "source": [
    "# ***<b><u>Azure Compute Services</u></b>***"
   ]
  },
  {
   "cell_type": "markdown",
   "metadata": {},
   "source": [
    "## Azure Virtual Machine\n",
    "\n",
    "Virtual machines are software emulations of physical computers. They include a virtual processor, memory, storage, and networking resources. VMs host an operating system, and you can install and run software just like a physical computer. When using a remote desktop client, you can use and control the VM as if you were sitting in front of it.\n",
    "\n",
    "With Azure Virtual Machines, you can create and use VMs in the cloud. Virtual Machines provides infrastructure as a service (IaaS) and can be used in different ways. When you need total control over an operating system and environment, VMs are an ideal choice. Just like a physical computer, you can customize all the software running on the VM. This ability is helpful when you're running custom software or custom hosting configurations.\n",
    "\n",
    "## Virtual machine scale sets\n",
    "\n",
    "Virtual machine scale sets are an <b><u>Azure Compute Resource</u></b> that you can use to deploy and manage a set of identical VMs. With all VMs configured the same, virtual machine scale sets are designed to support true autoscale. No pre-provisioning of VMs is required. For this reason, it's easier to build large-scale services targeting big compute, big data, and containerized workloads. As demand goes up, more VM instances can be added. As demand goes down, VM instances can be removed. The process can be manual, automated, or a combination of both.\n",
    "\n",
    "## Containers and Kubernetes\n",
    "\n",
    "Container Instances and Azure Kubernetes Service are Azure compute resources that you can use to deploy and manage containers. Containers are lightweight, virtualized application environments. They're designed to be quickly created, scaled out, and stopped dynamically. You can run multiple instances of a containerized application on a single host machine.\n",
    "\n",
    "## App Service\n",
    "\n",
    "With Azure App Service, you can quickly build, deploy, and scale enterprise-grade web, mobile, and API apps running on any platform. You can meet rigorous performance, scalability, security, and compliance requirements while using a fully managed platform to perform infrastructure maintenance. App Service is a platform as a service (PaaS) offering.\n",
    "\n",
    "## Functions\n",
    "\n",
    "Functions are ideal when you're concerned only about the code running your service and not the underlying platform or infrastructure. They're commonly used when you need to perform work in response to an event (often via a REST request), timer, or message from another Azure service, and when that work can be completed quickly, within seconds or less."
   ]
  },
  {
   "source": [
    "# Microsoft Azure Compute\n",
    "\n",
    "\n",
    "| Service Name | Service Function |   \n",
    "|:-------:|:----------:|\n",
    "| Azure Virtual Machines | Windows or Linux virtual machines (VMs) hosted in Azure. |\n",
    "| Azure Virtual Machine Scale Sets | Scaling for Windows or Linux VMs hosted in Azure. |\n",
    "| Azure Kubernetes Service | Cluster management for VMs that run containerized services. |\n",
    "| Azure Service Fabric | Distributed systems platform that runs in Azure or on-premises. |\n",
    "| Azure Batch | Managed service for parallel and high-performance computing applications. |\n",
    "| Azure Container Instances | Containerized apps run on Azure without provisioning servers or VMs. |\n",
    "| Azure Functions | An event-driven, serverless compute service. |\n"
   ],
   "cell_type": "markdown",
   "metadata": {}
  },
  {
   "source": [
    "# Azure Databases\n",
    "\n",
    "| Service Name | Service Function |   \n",
    "|:-------:|:----------:|\n",
    "| Azure Cosmos DB | Globally distributed database that supports NoSQL options. |\n",
    "| Azure SQL Database | Fully managed relational database with auto-scale, integral intelligence, and robust security. |\n",
    "| Azure Database for MySQL | Fully managed and scalable MySQL relational database with high availability and security. |\n",
    "| Azure Database for PostgreSQL | Fully managed and scalable PostgreSQL relational database with high availability and security. |\n",
    "| SQL Server on Azure Virtual Machines | Service that hosts enterprise SQL Server apps in the cloud. |\n",
    "| Azure Synapse Analytics |Fully managed data warehouse with integral security at every level of scale at no extra cost. |\n",
    "| Azure Database Migration Service | Service that migrates databases to the cloud with no application code changes. |\n",
    "| Azure Cache for Redis | Fully managed service caches frequently used and static data to reduce data and application latency. |\n",
    "| Azure Database for MariaDB | Fully managed and scalable MariaDB relational database with high availability and security. |"
   ],
   "cell_type": "markdown",
   "metadata": {}
  },
  {
   "source": [
    "# Microsoft Azure Networking\n",
    "\n",
    "| Service Name | Service Function |   \n",
    "|:-------:|:----------:|\n",
    "| Azure Virtual Network | Connects VMs to incoming virtual private network (VPN) connections. |\n",
    "| Azure Load Balancer | Balances inbound and outbound connections to applications or service endpoints. |\n",
    "| Azure Application Gateway | Optimizes app server farm delivery while increasing application security. |\n",
    "| Azure VPN Gateway | Accesses Azure Virtual Networks through high-performance VPN gateways. |\n",
    "| Azure DNS | Provides ultra-fast DNS responses and ultra-high domain availability. |\n",
    "| Azure Content Delivery Network | Delivers high-bandwidth content to customers globally. |\n",
    "| Azure DDoS Protection | Protects Azure-hosted applications from distributed denial of service (DDOS) attacks. |\n",
    "| Azure Traffic Manager | Distributes network traffic across Azure regions worldwide. |\n",
    "| Azure ExpressRoute | Connects to Azure over high-bandwidth dedicated secure connections. |\n",
    "| Azure Network Watcher | Monitors and diagnoses network issues by using scenario-based analysis. |\n",
    "| Azure Firewall | Implements high-security, high-availability firewall with unlimited scalability. |\n",
    "| Azure Virtual WAN | Creates a unified wide area network (WAN) that connects local and remote sites. |"
   ],
   "cell_type": "markdown",
   "metadata": {}
  },
  {
   "source": [
    "# Microsoft Azure Networking\n",
    "\n",
    "| Service Name | Service Function |   \n",
    "|:-------:|:----------:|\n",
    "| Azure Blob storage | Storage service for very large objects, such as video files or bitmaps. |\n",
    "| Azure File storage | File shares that can be accessed and managed like a file server. |\n",
    "| Azure Queue storage | A data store for queuing and reliably delivering messages between applications. |\n",
    "| Azure Table storage | Table storage is a service that stores non-relational structured data (also known as structured NoSQL data) in the cloud, providing a key/attribute store with a schemaless design. |"
   ],
   "cell_type": "markdown",
   "metadata": {}
  },
  {
   "source": [
    "# Web\n",
    "\n",
    "| Service Name | Service Function |   \n",
    "|:-------:|:----------:|\n",
    "| Azure App Service | Quickly create powerful cloud web-based apps. |\n",
    "| Azure Notification Hubs | Send push notifications to any platform from any back end. |\n",
    "| Azure API Management | Publish APIs to developers, partners, and employees securely and at scale. |\n",
    "| Azure Cognitive Search | Deploy this fully managed search as a service. |\n",
    "| Web Apps feature of Azure App Service | Create and deploy mission-critical web apps at scale. |\n",
    "| Azure SignalR Service | Add real-time web functionalities easily. |"
   ],
   "cell_type": "markdown",
   "metadata": {}
  }
 ],
 "metadata": {
  "interpreter": {
   "hash": "397704579725e15f5c7cb49fe5f0341eb7531c82d19f2c29d197e8b64ab5776b"
  },
  "kernelspec": {
   "display_name": "Python 3.9.2 64-bit",
   "name": "python3"
  },
  "language_info": {
   "name": "python",
   "version": ""
  },
  "orig_nbformat": 4
 },
 "nbformat": 4,
 "nbformat_minor": 2
}