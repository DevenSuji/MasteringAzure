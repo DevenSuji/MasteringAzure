{
 "cells": [
  {
   "cell_type": "markdown",
   "metadata": {},
   "source": [
    "## What is Azure Batch?\n",
    "Azure Batch enables large-scale parallel and high-performance computing (HPC) batch jobs with the ability to scale to tens, hundreds, or thousands of VMs.\n",
    "\n",
    "When you're ready to run a job, Batch does the following:\n",
    "\n",
    "+ Starts a pool of compute VMs for you.\n",
    "+ Installs applications and staging data.\n",
    "+ Runs jobs with as many tasks as you have.\n",
    "+ Identifies failures.\n",
    "+ Requeues work.\n",
    "+ Scales down the pool as work completes.  \n",
    "  \n",
    "There might be situations in which you need raw computing power or supercomputer-level compute power. Azure provides these capabilities."
   ]
  }
 ],
 "metadata": {
  "interpreter": {
   "hash": "397704579725e15f5c7cb49fe5f0341eb7531c82d19f2c29d197e8b64ab5776b"
  },
  "kernelspec": {
   "display_name": "Python 3.9.2 64-bit",
   "name": "python3"
  },
  "language_info": {
   "name": "python",
   "version": ""
  },
  "orig_nbformat": 4
 },
 "nbformat": 4,
 "nbformat_minor": 2
}