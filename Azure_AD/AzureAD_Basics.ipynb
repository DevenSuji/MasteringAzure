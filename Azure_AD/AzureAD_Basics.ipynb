{
 "metadata": {
  "language_info": {
   "codemirror_mode": {
    "name": "ipython",
    "version": 3
   },
   "file_extension": ".py",
   "mimetype": "text/x-python",
   "name": "python",
   "nbconvert_exporter": "python",
   "pygments_lexer": "ipython3",
   "version": 3
  },
  "orig_nbformat": 4
 },
 "nbformat": 4,
 "nbformat_minor": 2,
 "cells": [
  {
   "cell_type": "code",
   "execution_count": null,
   "metadata": {},
   "outputs": [],
   "source": []
  },
  {
   "source": [
    "# Azure AD"
   ],
   "cell_type": "markdown",
   "metadata": {}
  },
  {
   "source": [
    "The components of Azure AD are: \n",
    "\n",
    "+ Azure Active Directory Admin Center. (https://aad.portal.azure.com) \n",
    "+ Azure AD Join: For Managing Laptops and Desktops. \n",
    "+ Azure AD Domain Services: For running older AD aware applications). \n",
    "+ SaaS and PaaS Applications. \n",
    "+ Application Proxy: Authenticates users on cloud and redirects the user to on-premises where the application is located. \n",
    "+ Extends the device management to BYOD (Like Mobile Phones). \n",
    "+ Azure AD B2B: Letting users from another organization access the assets. \n",
    "+ Azure AD B2C:bLet's us handle the identity of individual customers who are using out public facing business application. \n",
    "+ Azure AD Connect : This is used to integrate the On-Premises Windows Active Directory with Azure AD for hybrid infrastructure.  \n",
    "+ Security. \n",
    "+ Smarter."
   ],
   "cell_type": "markdown",
   "metadata": {}
  },
  {
   "source": [
    "## Azure AD Connect"
   ],
   "cell_type": "markdown",
   "metadata": {}
  },
  {
   "source": [
    "+ AD Connect integrates WS AD with Azure AD.\n",
    "+ Installed on-premises on a member server.\n",
    "+ It synchronizes users, groups and computer from on-premises to Azure AD. This is required when a user from on-premise tries to access an application hosted in the cloud, Azure AD recognizes them and authenticates them.\n",
    "+ Bidirectional flow if configuration changes. \n",
    "+ It also helps setup single sign on across the two environments.  \n",
    "+ One can also setup the federation if one has ADFS installed on-premises. This is only done in the cases where the authentication request has to happen in the on-premises and not in the cloud. \n",
    "+ Azure AD Connect comes with AD Connect Health which monitors the availability of the AD Connect Server itself and one's AD Infrastructure. It uses a local agent that collects the information from the on-premise AD and sends it to the AD Connect Portal in Azure  "
   ],
   "cell_type": "markdown",
   "metadata": {}
  },
  {
   "source": [
    "## Azure AD Users and Groups Management  \n",
    "  \n",
    "There are three types of users in Azure AD:  \n",
    "+ Federated Users.\n",
    "+ Synchromized Users.\n",
    "+ Cloud Only Users.  \n",
    "  \n",
    "The above categories of users are based on two factors:\n",
    "+ The scope of operation of these accounts.  \n",
    "+ Where does the authentication takes place.  \n",
    "  \n",
    "### Federated Users:  \n",
    "+ We get FEDERATED USERS in Azure AD from environments where both Active Directory Domain Services(ADDS) and Active Directory Federation Services(ADFS) are present on-premises and users are synchronized to the cloud using Azure AD Connect.  \n",
    "+ The scope of such account encompasses both the environments which means the Federated users can access the resources in the cloud as well as on-premises.\n",
    "+ The authenitcation of the Federated users mainly takes place on-premises and not in the cloud.\n",
    "+ This suits the organizations that wants to use the could but want to retain a strong control locally.  \n",
    "  \n",
    "### Synchronized Users:  \n",
    "+ We get SYNCHRONIZED USERS in Azure AD from environments where only Active Directory Domain Services(ADDS) is present on-premises and users are synchronized to the cloud using Azure AD Connect.  \n",
    "+ The scope of such account encompasses both the environments which means the Synchronized users can access the resources in the cloud as well as on-premises.\n",
    "+ The authenitcation of the Synchronized users takes place in the cloud.\n",
    "+ This suits the organizations that are a little more comfortable in embracing the cloud but still require on-primeses presence.  \n",
    "\n",
    "### Cloud Only Users:\n",
    "+ These are users that are natively created in the cloud. \n",
    "+ Scope of operation is only cloud.\n",
    "+ Authentication happens only in the cloud.\n",
    "+ This suits organizations that do not have AD infra on-premises or those who wants to prioritize the cloud first strategy.  \n",
    "  \n",
    "  \n",
    "## Note:  \n",
    "Both FEDERATED and SYNCHRONIZED users are also called HYBRID Users.  \n",
    "  \n",
    "\n"
   ],
   "cell_type": "markdown",
   "metadata": {}
  },
  {
   "source": [
    "## Groups  \n",
    "  \n",
    "There are two types of groups:\n",
    "+ <u>Security Groups</u>\n",
    "    + This has the same meaning of what security groups have in Normal Active Directory.\n",
    "+ Office 365 Groups\n",
    "    + These groups are used for both facilitation of collaboration among  the members of the groups as well as to give access to resources.\n",
    "    + Office 365 Groups can provision a shared mailbox in exchange online, a site collection in sharepoint online, a chat room in MS Teams for the members of the groups to work on across apps.\n",
    "\n",
    "### Note:\n",
    "Users of all the three group types i.e. Federated, Synchronized and Cloud only can be a member of both Security and Office 365 Groups.  \n",
    "  \n",
    "### Dynamic membership:  \n",
    "    This is the property of the group where users are dynamically added to groups. For example if the user's department attribute is Marketting then the user is automatically added to the Marketting group.  \n",
    "### Ownership Delegation:  \n",
    "    This is the feature where the ownership of the group can be given to someone. This way we have one less thing to manage. "
   ],
   "cell_type": "markdown",
   "metadata": {}
  },
  {
   "source": [
    "## External User Management  \n",
    "As we know there are two solutions for external users:\n",
    "+ Azure AD B2B: \n",
    "    + This is implemented when we have users in partner companies who need access to your corporate resources.\n",
    "    + An email invitation is sent to user in the partner organization, once they accept the invitation, they show up in our Azure Active Directory and then they can be given access to any resources in the same way that we give access to any other user in our Azure AD.\n",
    "    + Since these are external identities, hence they have an external identity provider.\n",
    "    + The authentication of such users happens at the external provider, and then they are redirected to the resources they need to access in our tenant.\n",
    "    + We do not have to worry about the password or the life cycle of such accounts.\n",
    "    + We can invite users from the other Azure AD Tenants, Users with Personal Microsoft Accounts or even users that are from other identity providers. \n",
    "    + Azure AD B2B is designed to replace the legacy ADFS Federation and Trusts. \n",
    "        \n",
    "+ Azure B2C  \n",
    "    + Used by businessess for handling identities for customers who are using their public facing applications.\n",
    "    + We do not have to worry about the B2C users inadvertently accessing our company's internal resources as the B2C users are kept entirely isolated.\n",
    "    + Can scale very quickly to millions of users.\n",
    "    + Can work with any kind of applications like Desktop, Web, Mobile, Single-Page applications. "
   ],
   "cell_type": "markdown",
   "metadata": {}
  },
  {
   "source": [
    "## Device Management\n",
    "It has two features:  \n",
    "  \n",
    "### Device Registration:  \n",
    "+ Helpful in those BYOD scenarios.\n",
    "+ Mostly employee owned asset.\n",
    "+ Supports Windows 8.1 and above, Apple Mac OS, Mobile Device running iOS and Andriod.\n",
    "+ The main reason to implement device registration is accountability and security.\n",
    "+ Managed though Intune or other Mobile Device Management (MDM) solutions.\n",
    "\n",
    "### Azure AD Join:\n",
    "+ Azure AD Join is for cloud only environments, meaning either when there is no on-premises presence or the scope of access is limited to just cloud resources only. The devices are meant to be managed on the cloud and not through the on-premises solutions.\n",
    "+ Atlease Windows 10 is needed.\n",
    "+ Managed though Intune or other Mobile Device Management (MDM) solutions.\n",
    "+ Mostly company owned asset (Laptop/Desktop)  \n",
    "  \n",
    "### Hybrid Azure AD Join:  \n",
    "+ We go for this option when the resources needs to be access across both the environments (On-Premises and Azure).\n",
    "+ Devices also needs to be managed using solutions like ADDS.\n",
    "+ OS requirement is Windows 8.1 and above.\n",
    "+ Managed through traditional Group Policies.\n",
    "+ Hybrid Azure AD Join can be configured from within the Azure AD Connect.\n",
    "+ Mostly company owned asset (Laptop/Desktop)  \n"
   ],
   "cell_type": "markdown",
   "metadata": {}
  },
  {
   "source": [
    "## Azure AD Security  \n",
    "Although Azure AD is technically just an identity and access management system, it takes a really sophisticated, multilayered approach to security. Based on the criticality there are several barriers that we administrators can put in place before a user is allowed into the directory.  \n",
    "+ The first barrier is the user credentials.  \n",
    "+ The second barrier is Azure AD conditional access. \n",
    "    + In addition to credentials, conditional access rules can check if the device is domain joined or not.\n",
    "    + It also checks if it is the usual device and operating system that the user uses, what does the source location and IP address of the request look like, and for which application is access being requested. All these parameters are signals and analyzed and compiled into a score by Azure AD. And with every legitimate login the machine learning algorithms learn about the user's login patterns to make itself smarter. All anomalies are assigned a risk rating. High-risk sign-ins can be blocked, low-risk sign-ins are allowed, and moderate-risk sign-ins can be put through additional multi-factor authentication. \n",
    "+ Modern Multifactor Authentication is the third barrier. With MFA you can get one-time passwords through the regular channels of text message, phone call, email, and also through the Microsoft authenticator app on the phone. What's cooler is that you can altogether avoid the mess of one-time passwords.  \n",
    "  \n",
    "Using conditional access and multi-factor authentication makes the whole process so much smoother. Users can now be prompted for multi-factor authentication only when required, such as when the sign-in appears to be risky as assessed by the conditional access policies. When it does not appear to be risky users can go straight into the directory after verifying their credentials.  \n",
    "  \n",
    "These were the three barriers that can be implemented before allowing users into the directory.  \n",
    "  \n",
    "## Azure AD Directory Roles (AAD DR)\n",
    "  \n",
    "+ This applies to users in the directory. \n",
    "+ With this you can assign different levels of administrative rights to relevant users in the organization. You already know administrator groups in Windows Server. This is its equivalent counterpart in the cloud. There's a slight difference in the naming convention though. For example, global administrator in Azure AD is roughly the same as an Enterprise administrator in Windows Server Active Directory, but the concept is fundamentally the same.  \n",
    "  \n",
    "## Azure AD Identity Protection (AAD IP)\n",
    "  \n",
    "+ This feature gives comprehensive insight into the status of your identity infrastructure in the cloud. \n",
    "+ It has the ability to flag users for risk, discover irregular access events, identify potential shortcomings in security, give suggestions on how to fix those shortcomings, and recommend actions that you can take to mitigate the risk associated with the flagged users.  \n",
    "  \n",
    "All the features before identity protection were precautionary to ensure nothing bad happens, but identity protection is a serviceable feature. Basically, it's for monitoring and reporting.  \n",
    "  \n",
    "After the precautionary and serviceable features we have tools for identity governance.  \n",
    "These help establish a proper procedure for managing the end-to-end lifecycle of user identities in the organization. You can use this to streamline processes in identity and access management that may not be wrong, but probably have a room to improve based on the best practices in the industry.  \n",
    "There are three tools in the identity governance toolbox.  \n",
    "+ Privileged Identity Management (PIM):\n",
    "    + PIM takes the principle of least privilege and adds the time dimension to it. The principle teaches us that a user must only be given just enough permissions required to do their job, not more, not less. But even the minimum privilege assigned to the user may not always be in use, so with PIM you can enable just in time elevation of privilege for eligible users on request. Think of it as scaling up and down, but instead of resources you're scaling the permissions up and down based on the requirement.  \n",
    "+ Entitlement Management (EM):\n",
    "    + This allows your end users to be more informed about what resources they have access to or can request access to. Accessing resources has always kind of been a hit or miss game for end users. Try to access a resource, if you can't then call the help desk. Sometimes users are unaware that they have access to certain resources. EM aims to change that by allowing users to discover and request access to groups, applications, and resources in the form of packages that they are eligible for. \n",
    "+ Azure AD access reviews:\n",
    "    + This nicely rounds up all the configurations we make in the previously mentioned tools. It enables us to periodically review the access that has been assigned to users, re-certify it if the access is still required, or revoke it if it isn't. You can also run regular audit checks where you can add a justification on why a user requires specific access."
   ],
   "cell_type": "markdown",
   "metadata": {}
  }
 ]
}