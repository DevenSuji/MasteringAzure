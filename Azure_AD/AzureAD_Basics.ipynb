{
 "metadata": {
  "language_info": {
   "codemirror_mode": {
    "name": "ipython",
    "version": 3
   },
   "file_extension": ".py",
   "mimetype": "text/x-python",
   "name": "python",
   "nbconvert_exporter": "python",
   "pygments_lexer": "ipython3",
   "version": 3
  },
  "orig_nbformat": 4
 },
 "nbformat": 4,
 "nbformat_minor": 2,
 "cells": [
  {
   "source": [
    "# Azure AD"
   ],
   "cell_type": "markdown",
   "metadata": {}
  },
  {
   "source": [
    "The components of Azure AD are: \n",
    "\n",
    "+ Azure Active Directory Admin Center. (https://aad.portal.azure.com) \n",
    "+ Azure AD Join: For Managing Laptops and Desktops. \n",
    "+ Azure AD Domain Services: For running older AD aware applications). \n",
    "+ SaaS and PaaS Applications. \n",
    "+ Application Proxy: Authenticates users on cloud and redirects the user to on-premises where the application is located. \n",
    "+ Extends the device management to BYOD (Like Mobile Phones). \n",
    "+ Azure AD B2B: Letting users from another organization access the assets. \n",
    "+ Azure AD B2C:bLet's us handle the identity of individual customers who are using out public facing business application. \n",
    "+ Azure AD Connect : This is used to integrate the On-Premises Windows Active Directory with Azure AD for hybrid infrastructure.  \n",
    "+ Security. \n",
    "+ Smarter."
   ],
   "cell_type": "markdown",
   "metadata": {}
  },
  {
   "source": [
    "## <u>Azure AD Connect</u>"
   ],
   "cell_type": "markdown",
   "metadata": {}
  },
  {
   "source": [
    "+ AD Connect integrates WS AD with Azure AD.\n",
    "+ Installed on-premises on a member server.\n",
    "+ It synchronizes users, groups and computer from on-premises to Azure AD. This is required when a user from on-premise tries to access an application hosted in the cloud, Azure AD recognizes them and authenticates them.\n",
    "+ Bidirectional flow if configuration changes. \n",
    "+ It also helps setup single sign on across the two environments.  \n",
    "+ One can also setup the federation if one has ADFS installed on-premises. This is only done in the cases where the authentication request has to happen in the on-premises and not in the cloud. \n",
    "+ Azure AD Connect comes with AD Connect Health which monitors the availability of the AD Connect Server itself and one's AD Infrastructure. It uses a local agent that collects the information from the on-premise AD and sends it to the AD Connect Portal in Azure  "
   ],
   "cell_type": "markdown",
   "metadata": {}
  }
 ]
}