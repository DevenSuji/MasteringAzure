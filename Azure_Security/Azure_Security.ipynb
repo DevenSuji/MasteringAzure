{
 "metadata": {
  "language_info": {
   "codemirror_mode": {
    "name": "ipython",
    "version": 3
   },
   "file_extension": ".py",
   "mimetype": "text/x-python",
   "name": "python",
   "nbconvert_exporter": "python",
   "pygments_lexer": "ipython3",
   "version": "3.9.1"
  },
  "orig_nbformat": 4,
  "kernelspec": {
   "name": "python3",
   "display_name": "Python 3.9.1 64-bit"
  },
  "interpreter": {
   "hash": "fbb98bb154d8c9f9069922f89824353d3bddf18bb06ff4d192b24bff20fe3e16"
  }
 },
 "nbformat": 4,
 "nbformat_minor": 2,
 "cells": [
  {
   "source": [
    "# Azure Security  \n",
    "  \n",
    "Azure uses a layered aproach for security know as DEFENCE INDEPTH.  \n",
    "+ <b><u>Data:</u></b> At the center of this approach is data. The focus of this layer is to ensure that the access to the data is properly secured.\n",
    "  \n",
    "+ <b><u>Application:</u></b> The next layer is the application layer. This focus of this layer is to ensure that the applications are secure, and are storing the sensitive data in a secured storage medium.\n",
    "  \n",
    "+ <b><u>Compute:</u></b> Make sure that the virtual machines are patched and endpoint protection is implemented and access is secured. \n",
    "  \n",
    "+ <b><u>Network:</u></b> The next layer is network. Make sure inbound and outbound access is restricted to only what is required. \n",
    "  \n",
    "+ <b><u>Perimeter:</u></b> Next is the perimeter layer. Use tools like a network firewall and distributed denial of service protection to guard against network-based attacks. \n",
    "  \n",
    "+ <b><u>Identity And Access:</u></b> The penultimate layer is identity and access. Make sure identity is secured and access is granted only when needed and is locked. \n",
    "  \n",
    "+ <b><u>Physical Security:</u></b> The outer most layer is physical security. This is the first line of defense and involves securing the physical components, such as the building and access to the hardware.  \n",
    "  \n",
    "With an approach such as this even if one layer is compromised controls at the subsequent layers will prevent further exposure. The shared security model provides the required understanding of how different security tools are implemented in the cloud, and also that security in the cloud is a shared responsibility, between the cloud provider and the cloud user.\n",
    "\n",
    "\n",
    "  \n",
    "<img src=\"AzureSecurityLayeredApproach.JPG\"> \n"
   ],
   "cell_type": "markdown",
   "metadata": {}
  },
  {
   "source": [],
   "cell_type": "markdown",
   "metadata": {}
  },
  {
   "source": [
    "## Azure Network Security Components  \n",
    "  \n",
    "1. <b><u>Azure Virtual Network:</u></b> This is a logical networking construct built on top of the Azure Physical Network. Azure Virtual Networks are isoloated from each other.\n",
    "  \n",
    "2. <b><u>Network Security Groups:</u></b>  Virtual machines deployed in our virtual network needs to be protected from unauthorised access. This is done with the help of Network Security Groups. It is just like a stateful firewall that is used to filter inbound and outbound access. It allows you to control access by defining rules, based on source IP address and port, destination IP address and port and protocol, commonly referred to as 5-Tuple.  \n",
    "  \n",
    "3. <b><u>Routing Table:</u></b> Azure also allows you to control the routing behavior of network traffic. This can be done by defining the routing table entries in your Azure virtual network. This ensures that traffic from or to a specific device or devices is routed through a specific location. As an example, think of a web application that must always receive user traffic through a web application firewall. Routing in Azure is configured using user defined routes.  \n",
    "  \n",
    "Network security groups and user defined routes provide security at the network level. To provide security at other levels, such as the application level, native Azure solutions or Azure partner solutions can be used. These are available on the Azure marketplace. These can be used to implement advanced security functions.\n",
    "  \n",
    "## Advanced Security Functions\n",
    "+ Authentication and Authorization \n",
    "+ Intrusion detection and response \n",
    "+ URL filtering\n",
    "+ Protocol Inspection\n",
    "+ Antivirus and anti-malware  \n",
    "+ DDoSs protection.  \n",
    "  \n",
    "## Azure Firewall  \n",
    "  \n",
    "Another powerful tool that can be used to secure the network is the Azure firewall. It is a managed cloud-based network security service that can be used to protect your Azure network resources.  \n",
    "  \n",
    "A key element of network security is the availability of your resources. A common mechanism used to ensure availability is load balancing. This ensures that traffic is evenly distributed to your servers.  \n",
    "  \n",
    "Azure provides tools for HTTP-based load balancing, network level load balancing, and global load balancing.  \n",
    "The Azure application gateway is an HTTP-based load balancer and is used to ensure availability of web-based services. HTTP-based load balancers are different from network-based load balancers, in that they look at the characteristics of the HTTP protocol to make load balancing decisions.    \n",
    "Network level load balancers can make load balancing decisions based on IP address and port numbers. The Azure load balancer is a network level load balancer, and can be used to load balance external and internal applications and virtual machines.  \n",
    "  \n",
    "Global load balancing is a technique used to improve the performance of the application by hosting it in distributed data centers throughout the world. Traffic is routed using the Azure traffic manager service, which is a DNS-based load balancer. It distributes traffic to servers across global Azure regions. DNS resolution is an important security function. A compromised DNS server can be used to redirect traffic from your server to an attacker side, while an unavailable DNS server will cause traffic to be dropped, as your DNS is a service that allows you to host your domain on Azure, using the same credentials and APIs as your other Azure services. Azure DNS also has support for private DNS domains. This means you can use your own custom domain names, rather than the Azure provided names that are available today.  \n",
    "    \n",
    "As your DDoS protection can be used to defend your network against distributed denial of service attacks. These attacks aim to exhaust an applications or servers resources, making it unavailable to legitimate users. The basic service tier of Azure DDoS protection is automatically enabled on your Azure account. This includes traffic monitoring and real-time mitigation of common network level attacks.  \n",
    "  \n",
    "## Azure Security Center\n",
    "  \n",
    "An important and commonly used security tool in the Azure infrastructure is the Azure security center. It provides a unified security management system for your Azure resources. It assesses your workloads and environment, reports the status of your resources, and provides recommendations and security alerts. Azure security center can also be used for policy management, continuous and automatic assessment of new resources, and protection against threats. So that's a high-level overview of some of the most important security tools available within Azure. Let's get into the details of these solutions."
   ],
   "cell_type": "markdown",
   "metadata": {}
  },
  {
   "source": [],
   "cell_type": "code",
   "metadata": {},
   "execution_count": 1,
   "outputs": [
    {
     "output_type": "execute_result",
     "data": {
      "text/plain": [
       "148"
      ]
     },
     "metadata": {},
     "execution_count": 1
    }
   ]
  },
  {
   "cell_type": "code",
   "execution_count": null,
   "metadata": {},
   "outputs": [],
   "source": []
  }
 ]
}