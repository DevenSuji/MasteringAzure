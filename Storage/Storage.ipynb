{
 "metadata": {
  "language_info": {
   "codemirror_mode": {
    "name": "ipython",
    "version": 3
   },
   "file_extension": ".py",
   "mimetype": "text/x-python",
   "name": "python",
   "nbconvert_exporter": "python",
   "pygments_lexer": "ipython3",
   "version": 3
  },
  "orig_nbformat": 4
 },
 "nbformat": 4,
 "nbformat_minor": 2,
 "cells": [
  {
   "source": [
    "# Azure Storage  \n",
    "  \n",
    "## Azure Blob Storage Fundamentals.\n",
    "+ Azure Blob Storage is an object storage solution for the cloud. \n",
    "+ It can store massive amounts of data, such as text or binary data. \n",
    "+ Azure Blob Storage is unstructured, meaning that there are no restrictions on the kinds of data it can hold. \n",
    "+ Blob Storage can manage thousands of simultaneous uploads, massive amounts of video data, constantly growing log files, and can be reached from anywhere with an internet connection.  \n",
    "  \n",
    "Blobs aren't limited to common file formats. A blob could contain gigabytes of binary data streamed from a scientific instrument, an encrypted message for another application, or data in a custom format for an app you're developing. One advantage of blob storage over disk storage is that it does not require developers to think about or manage disks; data is uploaded as blobs, and Azure takes care of the physical storage needs.  \n",
    "  \n",
    "### Blob Storage is ideal for:  \n",
    "+ Serving images or documents directly to a browser.\n",
    "+ Storing files for distributed access.\n",
    "+ Streaming video and audio.\n",
    "+ Storing data for backup and restore, disaster recovery, and archiving.\n",
    "+ Storing data for analysis by an on-premises or Azure-hosted service.\n",
    "+ Storing up to 8 TB of data for virtual machines.\n",
    "\n",
    "\n"
   ],
   "cell_type": "markdown",
   "metadata": {}
  },
  {
   "source": [
    "## Azure Files Fundamentals  \n",
    "\n",
    "+ Azure Files offers fully managed file shares in the cloud that are accessible via the industry standard Server Message Block and Network File System (preview) protocols. \n",
    "+ Azure file shares can be mounted concurrently by cloud or on-premises deployments of Windows, Linux, and macOS. \n",
    "+ Applications running in Azure virtual machines or cloud services can mount a file storage share to access file data, just as a desktop application would mount a typical SMB share. \n",
    "+ Any number of Azure virtual machines or roles can mount and access the file storage share simultaneously. \n",
    "+ Typical usage scenarios would be to share files anywhere in the world, diagnostic data, or application data sharing.  \n",
    "  \n",
    "### Use Azure Files for the following situations:\n",
    "\n",
    "+ Many on-premises applications use file shares. Azure Files makes it easier to migrate those applications that share data to Azure. If you mount the Azure file share to the same drive letter that the on-premises application uses, the part of your application that accesses the file share should work with minimal changes, if any.\n",
    "+ Store configuration files on a file share and access them from multiple VMs. Tools and utilities used by multiple developers in a group can be stored on a file share, ensuring that everybody can find them, and that they use the same version.\n",
    "+ Write data to a file share, and process or analyze the data later. For example, you might want to do this with diagnostic logs, metrics, and crash dumps.\n"
   ],
   "cell_type": "markdown",
   "metadata": {}
  }
 ]
}