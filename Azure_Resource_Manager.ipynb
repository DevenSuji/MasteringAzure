{
 "cells": [
  {
   "cell_type": "markdown",
   "metadata": {},
   "source": [
    "# Azure Resource Manager\n",
    "### Azure Resource Manager is the deployment and management service for Azure. It provides a management layer that enables you to create, update, and delete resources in your Azure account. You use management features like access control, locks, and tags to secure and organize your resources after deployment.\n",
    "\n",
    "### When a user sends a request from any of the Azure tools, APIs, or SDKs, Resource Manager receives the request. It authenticates and authorizes the request. Resource Manager sends the request to the Azure service, which takes the requested action. Because all requests are handled through the same API, you see consistent results and capabilities in all the different tools.\n",
    "\n",
    "### The following image shows the role Resource Manager plays in handling Azure requests.  \n",
    "  \n",
    "<img src=\"AzureRM.png\">  \n",
    "  \n",
    "### All capabilities that are available in the Azure portal are also available through PowerShell, the Azure CLI, REST APIs, and client SDKs. Functionality initially released through APIs will be represented in the portal within 180 days of initial release."
   ]
  },
  {
   "cell_type": "markdown",
   "metadata": {},
   "source": [
    "# The benefits of using Resource Manager\n",
    "  \n",
    "### With Resource Manager, you can:\n",
    "\n",
    "1. ### Manage your infrastructure through declarative templates rather than scripts. A Resource Manager template is a JSON file that defines what you want to deploy to Azure.\n",
    "2. ### Deploy, manage, and monitor all the resources for your solution as a group, rather than handling these resources individually.\n",
    "3. ### Redeploy your solution throughout the development life cycle and have confidence your resources are deployed in a consistent state.\n",
    "4. ### Define the dependencies between resources so they're deployed in the correct order.\n",
    "5. ### Apply access control to all services because RBAC is natively integrated into the management platform.\n",
    "6. ### Apply tags to resources to logically organize all the resources in your subscription.\n",
    "7. ### Clarify your organization's billing by viewing costs for a group of resources that share the same tag.\n",
    "\n",
    "# Other Benefits Learned from the Video.\n",
    "+ ### Protect resrources from accidental deletion.\n",
    "+ ### Resource groups are containers for the resources deployed on Azure, by placing the resources of similar usage, type or location in the same group, one can provide some order and organisation to ones Azure resources.\n",
    "+ ### Tags are used to organize the resources even further.Tags can be used to associate custom details to a resource or a resource group, such as cost center or billing department.\n",
    "+ ### Azure policies are used to ensure that the new resources use the same tags as the existing resources in the Azure resource group. This helps keep things organized.\n",
    "+ ### RBAC\n",
    "+ ### Resource can be prevented from accidental deletion by enabling RESOURCE LOCKS.\n",
    "+ ### Resource can also be prevented from deletion or from someone editing it by marking the resource as read only."
   ]
  }
 ],
 "metadata": {
  "interpreter": {
   "hash": "397704579725e15f5c7cb49fe5f0341eb7531c82d19f2c29d197e8b64ab5776b"
  },
  "kernelspec": {
   "display_name": "Python 3.9.2 64-bit",
   "name": "python3"
  },
  "language_info": {
   "name": "python",
   "version": ""
  },
  "orig_nbformat": 4
 },
 "nbformat": 4,
 "nbformat_minor": 2
}